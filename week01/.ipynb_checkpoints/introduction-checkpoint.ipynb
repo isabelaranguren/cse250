{
 "cells": [
  {
   "cell_type": "code",
   "execution_count": null,
   "id": "29381529",
   "metadata": {},
   "outputs": [],
   "source": []
  }
 ],
 "metadata": {
  "interpreter": {
   "hash": "8d3f7fda53bf6f40a21341e37cb191ea7b7cd0f37c1591a5dc03642f6c841082"
  },
  "kernelspec": {
   "display_name": "Python 3",
   "language": "python",
   "name": "python3"
  },
  "language_info": {
   "codemirror_mode": {
    "name": "ipython",
    "version": 3
   },
   "file_extension": ".py",
   "mimetype": "text/x-python",
   "name": "python",
   "nbconvert_exporter": "python",
   "pygments_lexer": "ipython3",
   "version": "3.8.8"
  }
 },
 "nbformat": 4,
 "nbformat_minor": 5
}
