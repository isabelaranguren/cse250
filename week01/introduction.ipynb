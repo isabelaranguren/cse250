{
 "cells": [
  {
   "cell_type": "code",
   "execution_count": null,
   "source": [],
   "outputs": [],
   "metadata": {}
  }
 ],
 "metadata": {
  "language_info": {
   "name": "python",
   "version": "3.9.7"
  },
  "kernelspec": {
   "name": "python3",
   "display_name": "Python 3.9.7 64-bit ('.venv': venv)"
  },
  "interpreter": {
   "hash": "8d3f7fda53bf6f40a21341e37cb191ea7b7cd0f37c1591a5dc03642f6c841082"
  }
 },
 "nbformat": 4,
 "nbformat_minor": 5
}