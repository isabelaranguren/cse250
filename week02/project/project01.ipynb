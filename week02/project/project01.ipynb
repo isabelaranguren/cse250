{
 "cells": [
  {
   "cell_type": "markdown",
   "source": [
    "\n",
    "# Grand Questions:\n",
    "1. How does your name at your birth year compare to its use historically?\n",
    "2. If you talked to someone named Brittany on the phone, what is your guess of their age? What ages would you not guess?\n",
    "3. Mary, Martha, Peter, and Paul are all Christian names. From 1920 - 2000, compare the name usage of each of the four names.\n",
    "4. Think of a unique name from a famous movie. Plot that name and see how increases line up with the movie release.\n"
   ],
   "metadata": {}
  },
  {
   "cell_type": "code",
   "execution_count": 1,
   "source": [
    "# Imports\n",
    "import altair as alt\n",
    "import numpy as np\n",
    "import pandas as pd"
   ],
   "outputs": [],
   "metadata": {}
  },
  {
   "cell_type": "markdown",
   "source": [
    "## 1. How does your name at your birth year compare to its use historically?"
   ],
   "metadata": {}
  },
  {
   "cell_type": "code",
   "execution_count": 2,
   "source": [
    "# Read in data\n",
    "url = 'https://github.com/byuidatascience/data4names/raw/master/data-raw/names_year/names_year.csv'\n",
    "names = pd.read_csv(url)"
   ],
   "outputs": [],
   "metadata": {}
  },
  {
   "cell_type": "code",
   "execution_count": 3,
   "source": [
    "names.head()\n",
    "names.year = pd.to_datetime(names.year, format='%Y')\n",
    "names_agg = names.groupby('name')\n",
    "names_agg.head()\n",
    "my_name = names.query(\"name == 'Isabel'\")\n",
    "my_name.head()"
   ],
   "outputs": [
    {
     "output_type": "execute_result",
     "data": {
      "text/html": [
       "<div>\n",
       "<style scoped>\n",
       "    .dataframe tbody tr th:only-of-type {\n",
       "        vertical-align: middle;\n",
       "    }\n",
       "\n",
       "    .dataframe tbody tr th {\n",
       "        vertical-align: top;\n",
       "    }\n",
       "\n",
       "    .dataframe thead th {\n",
       "        text-align: right;\n",
       "    }\n",
       "</style>\n",
       "<table border=\"1\" class=\"dataframe\">\n",
       "  <thead>\n",
       "    <tr style=\"text-align: right;\">\n",
       "      <th></th>\n",
       "      <th>name</th>\n",
       "      <th>year</th>\n",
       "      <th>AK</th>\n",
       "      <th>AL</th>\n",
       "      <th>AR</th>\n",
       "      <th>AZ</th>\n",
       "      <th>CA</th>\n",
       "      <th>CO</th>\n",
       "      <th>CT</th>\n",
       "      <th>DC</th>\n",
       "      <th>...</th>\n",
       "      <th>TN</th>\n",
       "      <th>TX</th>\n",
       "      <th>UT</th>\n",
       "      <th>VA</th>\n",
       "      <th>VT</th>\n",
       "      <th>WA</th>\n",
       "      <th>WI</th>\n",
       "      <th>WV</th>\n",
       "      <th>WY</th>\n",
       "      <th>Total</th>\n",
       "    </tr>\n",
       "  </thead>\n",
       "  <tbody>\n",
       "    <tr>\n",
       "      <th>168720</th>\n",
       "      <td>Isabel</td>\n",
       "      <td>1910-01-01</td>\n",
       "      <td>0.0</td>\n",
       "      <td>0.0</td>\n",
       "      <td>0.0</td>\n",
       "      <td>12.0</td>\n",
       "      <td>20.0</td>\n",
       "      <td>0.0</td>\n",
       "      <td>6.0</td>\n",
       "      <td>0.0</td>\n",
       "      <td>...</td>\n",
       "      <td>0.0</td>\n",
       "      <td>23.0</td>\n",
       "      <td>0.0</td>\n",
       "      <td>8.0</td>\n",
       "      <td>0.0</td>\n",
       "      <td>0.0</td>\n",
       "      <td>8.0</td>\n",
       "      <td>0.0</td>\n",
       "      <td>0.0</td>\n",
       "      <td>314.0</td>\n",
       "    </tr>\n",
       "    <tr>\n",
       "      <th>168721</th>\n",
       "      <td>Isabel</td>\n",
       "      <td>1911-01-01</td>\n",
       "      <td>0.0</td>\n",
       "      <td>0.0</td>\n",
       "      <td>5.0</td>\n",
       "      <td>0.0</td>\n",
       "      <td>20.0</td>\n",
       "      <td>7.0</td>\n",
       "      <td>6.0</td>\n",
       "      <td>0.0</td>\n",
       "      <td>...</td>\n",
       "      <td>0.0</td>\n",
       "      <td>24.0</td>\n",
       "      <td>0.0</td>\n",
       "      <td>0.0</td>\n",
       "      <td>0.0</td>\n",
       "      <td>0.0</td>\n",
       "      <td>5.0</td>\n",
       "      <td>0.0</td>\n",
       "      <td>0.0</td>\n",
       "      <td>376.0</td>\n",
       "    </tr>\n",
       "    <tr>\n",
       "      <th>168722</th>\n",
       "      <td>Isabel</td>\n",
       "      <td>1912-01-01</td>\n",
       "      <td>0.0</td>\n",
       "      <td>0.0</td>\n",
       "      <td>0.0</td>\n",
       "      <td>0.0</td>\n",
       "      <td>42.0</td>\n",
       "      <td>9.0</td>\n",
       "      <td>5.0</td>\n",
       "      <td>0.0</td>\n",
       "      <td>...</td>\n",
       "      <td>5.0</td>\n",
       "      <td>29.0</td>\n",
       "      <td>0.0</td>\n",
       "      <td>12.0</td>\n",
       "      <td>0.0</td>\n",
       "      <td>0.0</td>\n",
       "      <td>14.0</td>\n",
       "      <td>0.0</td>\n",
       "      <td>0.0</td>\n",
       "      <td>499.0</td>\n",
       "    </tr>\n",
       "    <tr>\n",
       "      <th>168723</th>\n",
       "      <td>Isabel</td>\n",
       "      <td>1913-01-01</td>\n",
       "      <td>0.0</td>\n",
       "      <td>7.0</td>\n",
       "      <td>0.0</td>\n",
       "      <td>11.0</td>\n",
       "      <td>35.0</td>\n",
       "      <td>6.0</td>\n",
       "      <td>11.0</td>\n",
       "      <td>0.0</td>\n",
       "      <td>...</td>\n",
       "      <td>0.0</td>\n",
       "      <td>62.0</td>\n",
       "      <td>0.0</td>\n",
       "      <td>10.0</td>\n",
       "      <td>0.0</td>\n",
       "      <td>0.0</td>\n",
       "      <td>23.0</td>\n",
       "      <td>0.0</td>\n",
       "      <td>0.0</td>\n",
       "      <td>607.0</td>\n",
       "    </tr>\n",
       "    <tr>\n",
       "      <th>168724</th>\n",
       "      <td>Isabel</td>\n",
       "      <td>1914-01-01</td>\n",
       "      <td>0.0</td>\n",
       "      <td>0.0</td>\n",
       "      <td>0.0</td>\n",
       "      <td>12.0</td>\n",
       "      <td>31.0</td>\n",
       "      <td>5.0</td>\n",
       "      <td>7.0</td>\n",
       "      <td>0.0</td>\n",
       "      <td>...</td>\n",
       "      <td>0.0</td>\n",
       "      <td>30.5</td>\n",
       "      <td>0.0</td>\n",
       "      <td>10.0</td>\n",
       "      <td>0.0</td>\n",
       "      <td>8.0</td>\n",
       "      <td>17.0</td>\n",
       "      <td>8.0</td>\n",
       "      <td>0.0</td>\n",
       "      <td>691.5</td>\n",
       "    </tr>\n",
       "  </tbody>\n",
       "</table>\n",
       "<p>5 rows × 54 columns</p>\n",
       "</div>"
      ],
      "text/plain": [
       "          name       year   AK   AL   AR    AZ    CA   CO    CT   DC  ...  \\\n",
       "168720  Isabel 1910-01-01  0.0  0.0  0.0  12.0  20.0  0.0   6.0  0.0  ...   \n",
       "168721  Isabel 1911-01-01  0.0  0.0  5.0   0.0  20.0  7.0   6.0  0.0  ...   \n",
       "168722  Isabel 1912-01-01  0.0  0.0  0.0   0.0  42.0  9.0   5.0  0.0  ...   \n",
       "168723  Isabel 1913-01-01  0.0  7.0  0.0  11.0  35.0  6.0  11.0  0.0  ...   \n",
       "168724  Isabel 1914-01-01  0.0  0.0  0.0  12.0  31.0  5.0   7.0  0.0  ...   \n",
       "\n",
       "         TN    TX   UT    VA   VT   WA    WI   WV   WY  Total  \n",
       "168720  0.0  23.0  0.0   8.0  0.0  0.0   8.0  0.0  0.0  314.0  \n",
       "168721  0.0  24.0  0.0   0.0  0.0  0.0   5.0  0.0  0.0  376.0  \n",
       "168722  5.0  29.0  0.0  12.0  0.0  0.0  14.0  0.0  0.0  499.0  \n",
       "168723  0.0  62.0  0.0  10.0  0.0  0.0  23.0  0.0  0.0  607.0  \n",
       "168724  0.0  30.5  0.0  10.0  0.0  8.0  17.0  8.0  0.0  691.5  \n",
       "\n",
       "[5 rows x 54 columns]"
      ]
     },
     "metadata": {},
     "execution_count": 3
    }
   ],
   "metadata": {}
  },
  {
   "cell_type": "code",
   "execution_count": 4,
   "source": [
    "isabel_chart = (alt.Chart(my_name, title=\"Popularity\")\n",
    "    .encode(\n",
    "        alt.X('year(year):T', title = \"Year\"),\n",
    "        alt.Y('Total:Q',title=\"Number of Names\")\n",
    "    )\n",
    "    .mark_line().properties(width=600,height=350)\n",
    ")"
   ],
   "outputs": [],
   "metadata": {}
  },
  {
   "cell_type": "code",
   "execution_count": 5,
   "source": [
    "my_year = pd.DataFrame({\n",
    "    'year' : [2001],\n",
    "    'Total' : [my_name.query(\"year == 2001\").Total.values[0]],\n",
    "    'label' : [\"Birth Year\"]})\n",
    "    \n",
    "my_year.Total = my_year.Total.astype(\"int64\",copy=True)\n",
    "my_year.year = pd.to_datetime(my_year.year,format='%Y')"
   ],
   "outputs": [],
   "metadata": {}
  },
  {
   "cell_type": "code",
   "execution_count": 6,
   "source": [
    "text_overlay = (alt.Chart(my_year).mark_text(align='right',dy=-10,baseline='middle')\n",
    "    .encode\n",
    "    (\n",
    "        x = alt.X('year'),\n",
    "        y = alt.Y('Total:Q'),\n",
    "        text = 'label'\n",
    "    )\n",
    ")"
   ],
   "outputs": [],
   "metadata": {}
  },
  {
   "cell_type": "code",
   "execution_count": 7,
   "source": [
    "my_point = (alt.Chart(my_year).mark_circle(color = 'red')\n",
    "    .encode\n",
    "    (\n",
    "        x = alt.X('year'),\n",
    "        y = alt.Y('Total:Q')\n",
    "    )\n",
    ")"
   ],
   "outputs": [],
   "metadata": {}
  },
  {
   "cell_type": "code",
   "execution_count": 8,
   "source": [
    "isabel_point = isabel_chart  + text_overlay + my_point\n",
    "isabel_point.save(\"my_point.png\")"
   ],
   "outputs": [],
   "metadata": {}
  },
  {
   "cell_type": "markdown",
   "source": [
    "![](my_point.png)"
   ],
   "metadata": {}
  },
  {
   "cell_type": "markdown",
   "source": [
    "## 2. If you talked to someone named Brittany on the phone, what is your guess of their age? What ages would you not guess?"
   ],
   "metadata": {}
  },
  {
   "cell_type": "code",
   "execution_count": null,
   "source": [
    "brit = names.query(\"name == 'Brittany'\")\n",
    "brit_std = pd.DataFrame({\n",
    "    'year' : [brit.year.median() + (brit.year.std()),brit.year.median() - (brit.year.std()),brit.year.median()],\n",
    "    'color' : ['red','green','red'],\n",
    "    'text' : [\"Not Guess Range\",\"Not Guess Range\",\"Guess Range\"],\n",
    "    'y' : [15000] * 3\n",
    "})"
   ],
   "outputs": [],
   "metadata": {}
  },
  {
   "cell_type": "markdown",
   "source": [
    "## 3. Mary, Martha, Peter, and Paul are all Christian names. From 1920 - 2000, compare the name usage of each of the four names."
   ],
   "metadata": {}
  },
  {
   "cell_type": "code",
   "execution_count": null,
   "source": [
    "# Subset the data\n",
    "mmpp = names.query('name in [\"Mary\",\"Martha\",\"Peter\",\"Paul\"] & year > 1919 & year < 2020')"
   ],
   "outputs": [],
   "metadata": {}
  },
  {
   "cell_type": "code",
   "execution_count": null,
   "source": [
    "# Chart the subset\n",
    "mmpp_chart = (alt.Chart(mmpp, title='Q3. Mary, Martha, Peter & Paul by Year')\n",
    "              .encode(\n",
    "                  alt.X('year:T', title=\"Year\"), \n",
    "                  alt.Y('Total:Q',title=\"Number of Names\"),\n",
    "                  color = 'name')\n",
    "              .mark_line()).properties(width=600,height=350)\n",
    "            \n",
    "mmpp_chart.save('mmpp_chart_2.png')\n",
    "# %%"
   ],
   "outputs": [],
   "metadata": {}
  },
  {
   "cell_type": "markdown",
   "source": [
    "![](mmpp_chart_2.png)"
   ],
   "metadata": {}
  },
  {
   "cell_type": "markdown",
   "source": [
    "## 4. Think of a unique name from a famous movie. Plot that name and see how increases line up with the movie release."
   ],
   "metadata": {}
  },
  {
   "cell_type": "code",
   "execution_count": null,
   "source": [
    "twilight_bella = names.query('name == \"Bella\" & year >= 2007 & year <= 2015') # From the Titanic in 1997\n",
    "twilight_bella_chart = (alt.Chart(twilight_bella).encode(x='year:O', y='Total').mark_line().properties(title=\"Q4. Bella Swan from Twilight\")) # Build chart\n",
    "twilight_bella_chart.save('twilight_bella_chart.png') # Save chart"
   ],
   "outputs": [],
   "metadata": {}
  },
  {
   "cell_type": "markdown",
   "source": [
    "![](twilight_bella_chart.png)"
   ],
   "metadata": {}
  }
 ],
 "metadata": {
  "kernelspec": {
   "name": "python3",
   "display_name": "Python 3.9.7 64-bit ('.venv': venv)"
  },
  "language_info": {
   "codemirror_mode": {
    "name": "ipython",
    "version": 3
   },
   "file_extension": ".py",
   "mimetype": "text/x-python",
   "name": "python",
   "nbconvert_exporter": "python",
   "pygments_lexer": "ipython3",
   "version": "3.9.7"
  },
  "interpreter": {
   "hash": "8d3f7fda53bf6f40a21341e37cb191ea7b7cd0f37c1591a5dc03642f6c841082"
  }
 },
 "nbformat": 4,
 "nbformat_minor": 2
}