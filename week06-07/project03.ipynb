{
 "cells": [
  {
   "cell_type": "code",
   "execution_count": 1,
   "metadata": {},
   "outputs": [
    {
     "ename": "ImportError",
     "evalue": "Unable to import required dependencies:\nnumpy: \n\nIMPORTANT: PLEASE READ THIS FOR ADVICE ON HOW TO SOLVE THIS ISSUE!\n\nImporting the numpy C-extensions failed. This error can happen for\nmany reasons, often due to issues with your setup or how NumPy was\ninstalled.\n\nWe have compiled some common reasons and troubleshooting tips at:\n\n    https://numpy.org/devdocs/user/troubleshooting-importerror.html\n\nPlease note and check the following:\n\n  * The Python version is: Python3.9 from \"/Users/isa/Documents/GitHub/cse250/.venv/bin/python\"\n  * The NumPy version is: \"1.21.2\"\n\nand make sure that they are the versions you expect.\nPlease carefully study the documentation linked above for further help.\n\nOriginal error was: No module named 'numpy.core._multiarray_umath'\n",
     "output_type": "error",
     "traceback": [
      "\u001b[0;31m---------------------------------------------------------------------------\u001b[0m",
      "\u001b[0;31mImportError\u001b[0m                               Traceback (most recent call last)",
      "\u001b[0;32m/var/folders/0q/79csbplj4f75d38xhbr9wfp80000gn/T/ipykernel_3418/310849166.py\u001b[0m in \u001b[0;36m<module>\u001b[0;34m\u001b[0m\n\u001b[1;32m      1\u001b[0m \u001b[0;32mimport\u001b[0m \u001b[0mdatadotworld\u001b[0m \u001b[0;32mas\u001b[0m \u001b[0mdw\u001b[0m\u001b[0;34m\u001b[0m\u001b[0;34m\u001b[0m\u001b[0m\n\u001b[0;32m----> 2\u001b[0;31m \u001b[0;32mimport\u001b[0m \u001b[0mpandas\u001b[0m \u001b[0;32mas\u001b[0m \u001b[0mpd\u001b[0m\u001b[0;34m\u001b[0m\u001b[0;34m\u001b[0m\u001b[0m\n\u001b[0m\u001b[1;32m      3\u001b[0m \u001b[0;32mimport\u001b[0m \u001b[0maltair\u001b[0m \u001b[0;32mas\u001b[0m \u001b[0malt\u001b[0m\u001b[0;34m\u001b[0m\u001b[0;34m\u001b[0m\u001b[0m\n",
      "\u001b[0;32m~/Documents/GitHub/cse250/.venv/lib/python3.9/site-packages/pandas/__init__.py\u001b[0m in \u001b[0;36m<module>\u001b[0;34m\u001b[0m\n\u001b[1;32m     14\u001b[0m \u001b[0;34m\u001b[0m\u001b[0m\n\u001b[1;32m     15\u001b[0m \u001b[0;32mif\u001b[0m \u001b[0mmissing_dependencies\u001b[0m\u001b[0;34m:\u001b[0m\u001b[0;34m\u001b[0m\u001b[0;34m\u001b[0m\u001b[0m\n\u001b[0;32m---> 16\u001b[0;31m     raise ImportError(\n\u001b[0m\u001b[1;32m     17\u001b[0m         \u001b[0;34m\"Unable to import required dependencies:\\n\"\u001b[0m \u001b[0;34m+\u001b[0m \u001b[0;34m\"\\n\"\u001b[0m\u001b[0;34m.\u001b[0m\u001b[0mjoin\u001b[0m\u001b[0;34m(\u001b[0m\u001b[0mmissing_dependencies\u001b[0m\u001b[0;34m)\u001b[0m\u001b[0;34m\u001b[0m\u001b[0;34m\u001b[0m\u001b[0m\n\u001b[1;32m     18\u001b[0m     )\n",
      "\u001b[0;31mImportError\u001b[0m: Unable to import required dependencies:\nnumpy: \n\nIMPORTANT: PLEASE READ THIS FOR ADVICE ON HOW TO SOLVE THIS ISSUE!\n\nImporting the numpy C-extensions failed. This error can happen for\nmany reasons, often due to issues with your setup or how NumPy was\ninstalled.\n\nWe have compiled some common reasons and troubleshooting tips at:\n\n    https://numpy.org/devdocs/user/troubleshooting-importerror.html\n\nPlease note and check the following:\n\n  * The Python version is: Python3.9 from \"/Users/isa/Documents/GitHub/cse250/.venv/bin/python\"\n  * The NumPy version is: \"1.21.2\"\n\nand make sure that they are the versions you expect.\nPlease carefully study the documentation linked above for further help.\n\nOriginal error was: No module named 'numpy.core._multiarray_umath'\n"
     ]
    }
   ],
   "source": [
    "import datadotworld as dw\n",
    "import pandas as pd\n",
    "import altair as alt"
   ]
  },
  {
   "cell_type": "markdown",
   "metadata": {},
   "source": [
    "## GRAND QUESTION 1\n",
    "### Write an SQL query to create a new dataframe about baseball players who attended BYU-Idaho. The new table should contain five columns: playerID, schoolID, salary, and the yearID/teamID associated with each salary. Order the table by salary (highest to lowest) and print out the table in your report."
   ]
  },
  {
   "cell_type": "code",
   "execution_count": 56,
   "metadata": {},
   "outputs": [
    {
     "data": {
      "text/html": [
       "<div>\n",
       "<style scoped>\n",
       "    .dataframe tbody tr th:only-of-type {\n",
       "        vertical-align: middle;\n",
       "    }\n",
       "\n",
       "    .dataframe tbody tr th {\n",
       "        vertical-align: top;\n",
       "    }\n",
       "\n",
       "    .dataframe thead th {\n",
       "        text-align: right;\n",
       "    }\n",
       "</style>\n",
       "<table border=\"1\" class=\"dataframe\">\n",
       "  <thead>\n",
       "    <tr style=\"text-align: right;\">\n",
       "      <th></th>\n",
       "      <th>playerid</th>\n",
       "      <th>yearid</th>\n",
       "      <th>batting_average</th>\n",
       "    </tr>\n",
       "  </thead>\n",
       "  <tbody>\n",
       "    <tr>\n",
       "      <th>0</th>\n",
       "      <td>addybo01</td>\n",
       "      <td>1871</td>\n",
       "      <td>0.271186</td>\n",
       "    </tr>\n",
       "    <tr>\n",
       "      <th>1</th>\n",
       "      <td>abercda01</td>\n",
       "      <td>1871</td>\n",
       "      <td>0.000000</td>\n",
       "    </tr>\n",
       "  </tbody>\n",
       "</table>\n",
       "</div>"
      ],
      "text/plain": [
       "    playerid  yearid  batting_average\n",
       "0   addybo01    1871         0.271186\n",
       "1  abercda01    1871         0.000000"
      ]
     },
     "execution_count": 56,
     "metadata": {},
     "output_type": "execute_result"
    }
   ],
   "source": [
    "#  The WHERE keyword allows us to filter down the table horizontally (fewer rows).\n",
    "result = dw.query('byuidss/cse-250-baseball-database', \n",
    "    '''\n",
    "    SELECT  \n",
    "    playerid\n",
    "    , yearid\n",
    "    , h/ab AS batting_average\n",
    "    FROM batting\n",
    "    LIMIT 2;\n",
    "    ''')\n",
    "table = result.dataframe\n",
    "table"
   ]
  },
  {
   "cell_type": "code",
   "execution_count": 50,
   "metadata": {},
   "outputs": [],
   "source": []
  },
  {
   "cell_type": "markdown",
   "metadata": {},
   "source": [
    "## GRAND QUESTION 2\n",
    "### This three-part question requires you to calculate batting average (number of hits divided by the number of at-bats)"
   ]
  },
  {
   "cell_type": "markdown",
   "metadata": {},
   "source": [
    " a. Write an SQL query that provides playerID, yearID, and batting average for players with at least one at bat. Sort the table from highest batting average to lowest, and show the top 5 results in your report.\n"
   ]
  },
  {
   "cell_type": "code",
   "execution_count": 40,
   "metadata": {},
   "outputs": [
    {
     "name": "stdout",
     "output_type": "stream",
     "text": [
      "|    | playerid   |   yearid |   batting_average |\n",
      "|---:|:-----------|---------:|------------------:|\n",
      "|  0 | mccafsp01  |     1889 |                 1 |\n",
      "|  1 | snowch01   |     1874 |                 1 |\n",
      "|  2 | oconnfr01  |     1893 |                 1 |\n",
      "|  3 | gumbebi01  |     1893 |                 1 |\n",
      "|  4 | baldwki01  |     1884 |                 1 |\n"
     ]
    }
   ],
   "source": [
    "result = dw.query('byuidss/cse-250-baseball-database', \n",
    "    '''\n",
    "    SELECT \n",
    "    playerid\n",
    "    , yearid\n",
    "    , h/ab AS batting_average\n",
    "    FROM batting\n",
    "    WHERE h >= 1\n",
    "    ORDER BY batting_average desc\n",
    "    LIMIT 5\n",
    "    ;\n",
    "    ''')\n",
    "\n",
    "table = result.dataframe\n",
    "print(table.head(5).to_markdown())"
   ]
  },
  {
   "cell_type": "markdown",
   "metadata": {},
   "source": [
    "b. Use the same query as above, but only include players with more than 10 “at bats” that year. Print the top 5 results.\n"
   ]
  },
  {
   "cell_type": "code",
   "execution_count": 44,
   "metadata": {},
   "outputs": [
    {
     "name": "stdout",
     "output_type": "stream",
     "text": [
      "|    | playerid   |   yearid |   batting_average |\n",
      "|---:|:-----------|---------:|------------------:|\n",
      "|  0 | snowch01   |     1874 |                 1 |\n",
      "|  1 | baldwki01  |     1884 |                 1 |\n",
      "|  2 | oconnfr01  |     1893 |                 1 |\n",
      "|  3 | gumbebi01  |     1893 |                 1 |\n",
      "|  4 | mccafsp01  |     1889 |                 1 |\n"
     ]
    }
   ],
   "source": [
    "result = dw.query('byuidss/cse-250-baseball-database', \n",
    "    '''\n",
    "    SELECT \n",
    "    playerid\n",
    "    , yearid\n",
    "    , h/ab AS batting_average\n",
    "    FROM batting\n",
    "    WHERE ab >= 1\n",
    "    ORDER BY batting_average desc\n",
    "    LIMIT 5\n",
    "    ;\n",
    "    ''')\n",
    "\n",
    "table = result.dataframe\n",
    "print(table.head(5).to_markdown())"
   ]
  },
  {
   "cell_type": "markdown",
   "metadata": {},
   "source": [
    "c. Now calculate the batting average for players over their entire careers (all years combined). Only include players with more than 100 at bats, and print the top 5 results."
   ]
  },
  {
   "cell_type": "code",
   "execution_count": 28,
   "metadata": {},
   "outputs": [
    {
     "name": "stdout",
     "output_type": "stream",
     "text": [
      "|    | namefirst   | namelast   |   hits |   at_bat |   bat_avg |\n",
      "|---:|:------------|:-----------|-------:|---------:|----------:|\n",
      "|  0 | Bob         | Hazle      |     54 |      134 |  0.402985 |\n",
      "|  1 | Curt        | Davis      |     40 |      105 |  0.380952 |\n",
      "|  2 | Showboat    | Fisher     |     95 |      254 |  0.374016 |\n",
      "|  3 | Rynie       | Wolters    |     51 |      138 |  0.369565 |\n",
      "|  4 | Ty          | Cobb       |   4189 |    11436 |  0.366299 |\n"
     ]
    },
    {
     "data": {
      "text/html": [
       "<div>\n",
       "<style scoped>\n",
       "    .dataframe tbody tr th:only-of-type {\n",
       "        vertical-align: middle;\n",
       "    }\n",
       "\n",
       "    .dataframe tbody tr th {\n",
       "        vertical-align: top;\n",
       "    }\n",
       "\n",
       "    .dataframe thead th {\n",
       "        text-align: right;\n",
       "    }\n",
       "</style>\n",
       "<table border=\"1\" class=\"dataframe\">\n",
       "  <thead>\n",
       "    <tr style=\"text-align: right;\">\n",
       "      <th></th>\n",
       "      <th>namefirst</th>\n",
       "      <th>namelast</th>\n",
       "      <th>hits</th>\n",
       "      <th>at_bat</th>\n",
       "      <th>bat_avg</th>\n",
       "    </tr>\n",
       "  </thead>\n",
       "  <tbody>\n",
       "    <tr>\n",
       "      <th>0</th>\n",
       "      <td>Bob</td>\n",
       "      <td>Hazle</td>\n",
       "      <td>54</td>\n",
       "      <td>134</td>\n",
       "      <td>0.402985</td>\n",
       "    </tr>\n",
       "    <tr>\n",
       "      <th>1</th>\n",
       "      <td>Curt</td>\n",
       "      <td>Davis</td>\n",
       "      <td>40</td>\n",
       "      <td>105</td>\n",
       "      <td>0.380952</td>\n",
       "    </tr>\n",
       "    <tr>\n",
       "      <th>2</th>\n",
       "      <td>Showboat</td>\n",
       "      <td>Fisher</td>\n",
       "      <td>95</td>\n",
       "      <td>254</td>\n",
       "      <td>0.374016</td>\n",
       "    </tr>\n",
       "    <tr>\n",
       "      <th>3</th>\n",
       "      <td>Rynie</td>\n",
       "      <td>Wolters</td>\n",
       "      <td>51</td>\n",
       "      <td>138</td>\n",
       "      <td>0.369565</td>\n",
       "    </tr>\n",
       "    <tr>\n",
       "      <th>4</th>\n",
       "      <td>Ty</td>\n",
       "      <td>Cobb</td>\n",
       "      <td>4189</td>\n",
       "      <td>11436</td>\n",
       "      <td>0.366299</td>\n",
       "    </tr>\n",
       "  </tbody>\n",
       "</table>\n",
       "</div>"
      ],
      "text/plain": [
       "  namefirst namelast  hits  at_bat   bat_avg\n",
       "0       Bob    Hazle    54     134  0.402985\n",
       "1      Curt    Davis    40     105  0.380952\n",
       "2  Showboat   Fisher    95     254  0.374016\n",
       "3     Rynie  Wolters    51     138  0.369565\n",
       "4        Ty     Cobb  4189   11436  0.366299"
      ]
     },
     "execution_count": 28,
     "metadata": {},
     "output_type": "execute_result"
    }
   ],
   "source": [
    "result = dw.query('byuidss/cse-250-baseball-database', \n",
    "    '''\n",
    "    SELECT p.namefirst, p.namelast, SUM(b.h) as hits, SUM(b.ab) AS at_bat, SUM(b.h)/SUM(b.ab) AS bat_avg\n",
    "    FROM people p\n",
    "    JOIN batting b ON p.playerid = b.playerid\n",
    "    WHERE b.ab > 100\n",
    "    GROUP BY p.playerid\n",
    "    ORDER BY bat_avg DESC\n",
    "    LIMIT 5\n",
    "    ;    \n",
    "   ''')\n",
    "\n",
    "table = result.dataframe\n",
    "print(table.head(5).to_markdown())"
   ]
  },
  {
   "cell_type": "markdown",
   "metadata": {},
   "source": [
    "## GRAND QUESTION 3\n",
    "### Pick any two baseball teams and compare them using a metric of your choice (average salary, home runs, number of wins, etc.). Write an SQL query to get the data you need. Use Python if additional data wrangling is needed, then make a graph in Altair to visualize the comparison. Provide the visualization and its description."
   ]
  },
  {
   "cell_type": "code",
   "execution_count": 30,
   "metadata": {},
   "outputs": [
    {
     "name": "stdout",
     "output_type": "stream",
     "text": [
      "|    | Team                 | teamid   |   at_bat |   doubles |   runs_scored |   doubles_by_at_bat |   runs_per_double |\n",
      "|---:|:---------------------|:---------|---------:|----------:|--------------:|--------------------:|------------------:|\n",
      "|  0 | Boston Red Sox       | BOS      |     4866 |       183 |           759 |           0.0376079 |           4.14754 |\n",
      "|  1 | Washington Nationals | WAS      |     5426 |       311 |           639 |           0.0573166 |           2.05466 |\n"
     ]
    },
    {
     "data": {
      "text/html": [
       "<div>\n",
       "<style scoped>\n",
       "    .dataframe tbody tr th:only-of-type {\n",
       "        vertical-align: middle;\n",
       "    }\n",
       "\n",
       "    .dataframe tbody tr th {\n",
       "        vertical-align: top;\n",
       "    }\n",
       "\n",
       "    .dataframe thead th {\n",
       "        text-align: right;\n",
       "    }\n",
       "</style>\n",
       "<table border=\"1\" class=\"dataframe\">\n",
       "  <thead>\n",
       "    <tr style=\"text-align: right;\">\n",
       "      <th></th>\n",
       "      <th>Team</th>\n",
       "      <th>teamid</th>\n",
       "      <th>at_bat</th>\n",
       "      <th>doubles</th>\n",
       "      <th>runs_scored</th>\n",
       "      <th>doubles_by_at_bat</th>\n",
       "      <th>runs_per_double</th>\n",
       "    </tr>\n",
       "  </thead>\n",
       "  <tbody>\n",
       "    <tr>\n",
       "      <th>0</th>\n",
       "      <td>Boston Red Sox</td>\n",
       "      <td>BOS</td>\n",
       "      <td>4866</td>\n",
       "      <td>183</td>\n",
       "      <td>759</td>\n",
       "      <td>0.037608</td>\n",
       "      <td>4.147541</td>\n",
       "    </tr>\n",
       "    <tr>\n",
       "      <th>1</th>\n",
       "      <td>Washington Nationals</td>\n",
       "      <td>WAS</td>\n",
       "      <td>5426</td>\n",
       "      <td>311</td>\n",
       "      <td>639</td>\n",
       "      <td>0.057317</td>\n",
       "      <td>2.054662</td>\n",
       "    </tr>\n",
       "  </tbody>\n",
       "</table>\n",
       "</div>"
      ],
      "text/plain": [
       "                   Team teamid  at_bat  doubles  runs_scored  \\\n",
       "0        Boston Red Sox    BOS    4866      183          759   \n",
       "1  Washington Nationals    WAS    5426      311          639   \n",
       "\n",
       "   doubles_by_at_bat  runs_per_double  \n",
       "0           0.037608         4.147541  \n",
       "1           0.057317         2.054662  "
      ]
     },
     "execution_count": 30,
     "metadata": {},
     "output_type": "execute_result"
    }
   ],
   "source": [
    "result = dw.query('byuidss/cse-250-baseball-database', \n",
    " '''\n",
    "    -- At Bat vs Triples with Runs Scored\n",
    "\n",
    "    SELECT    f.franchname AS Team\n",
    "            , t.teamid\n",
    "            , t.ab AS at_bat\n",
    "            , t.2b AS doubles\n",
    "            , t.r AS runs_scored\n",
    "            , t.2b/t.ab AS doubles_by_at_bat\n",
    "            , t.r/t.2b AS runs_per_double\n",
    "    FROM teams t\n",
    "    JOIN teamsfranchises f ON t.franchid = f.franchid\n",
    "    WHERE f.active = \"Y\" AND t.teamid = \"WAS\" OR t.teamid = \"BOS\"\n",
    "    GROUP BY f.franchname\n",
    "    ORDER BY runs_scored DESC\n",
    "    ;\n",
    "   ''')\n",
    "\n",
    "table = result.dataframe\n",
    "print(table.head().to_markdown())\n"
   ]
  },
  {
   "cell_type": "code",
   "execution_count": 34,
   "metadata": {},
   "outputs": [],
   "source": [
    "# Chart\n",
    "chart = (\n",
    "    alt.Chart(table)\n",
    "    .encode(\n",
    "        alt.X('Team'),\n",
    "        alt.Y('runs_per_double'))\n",
    "    .mark_bar()\n",
    "    .properties(width=400, title=\"Boston Score More Runs Than Washington From Doubles\")\n",
    ")\n",
    "chart.save('chart.png')"
   ]
  }
 ],
 "metadata": {
  "interpreter": {
   "hash": "52a00839d3ea2be9b7a82fb19c98ddbec9d43950431eb0f9ac7756b03de0853c"
  },
  "kernelspec": {
   "display_name": "Python 3.9.7 64-bit ('.venv': venv)",
   "name": "python3"
  },
  "language_info": {
   "codemirror_mode": {
    "name": "ipython",
    "version": 3
   },
   "file_extension": ".py",
   "mimetype": "text/x-python",
   "name": "python",
   "nbconvert_exporter": "python",
   "pygments_lexer": "ipython3",
   "version": "3.9.7"
  }
 },
 "nbformat": 4,
 "nbformat_minor": 5
}
