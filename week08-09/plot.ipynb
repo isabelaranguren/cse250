{
 "cells": [
  {
   "cell_type": "code",
   "execution_count": 1,
   "id": "c0f65a95",
   "metadata": {},
   "outputs": [],
   "source": [
    "import pandas as pd \n",
    "import altair as alt \n",
    "import numpy as np \n",
    "import altair as alt"
   ]
  },
  {
   "cell_type": "code",
   "execution_count": 45,
   "id": "7e7e479f",
   "metadata": {},
   "outputs": [],
   "source": [
    "from sklearn.model_selection import train_test_split\n",
    "from sklearn import tree\n",
    "from sklearn import metrics\n",
    "from sklearn.tree import DecisionTreeClassifier # Import Decision Tree Classifier\n",
    "from sklearn.metrics import (roc_curve, auc, roc_auc_score,\n",
    "                             confusion_matrix)\n",
    "import matplotlib.pyplot as plt\n",
    "import numpy as np\n",
    "import itertools"
   ]
  },
  {
   "cell_type": "code",
   "execution_count": 3,
   "id": "ed991133",
   "metadata": {},
   "outputs": [
    {
     "data": {
      "text/plain": [
       "DataTransformerRegistry.enable('data_server')"
      ]
     },
     "execution_count": 3,
     "metadata": {},
     "output_type": "execute_result"
    }
   ],
   "source": [
    "# Load data\n",
    "dwellings = pd.read_csv('https://github.com/byuidatascience/data4dwellings/raw/master/data-raw/dwellings_denver/dwellings_denver.csv')\n",
    "dwellings_ml = pd.read_csv('https://github.com/byuidatascience/data4dwellings/raw/master/data-raw/dwellings_ml/dwellings_ml.csv')\n",
    "neighborhood = pd.read_csv('https://github.com/byuidatascience/data4dwellings/raw/master/data-raw/dwellings_neighborhoods_ml/dwellings_neighborhoods_ml.csv')\n",
    "alt.data_transformers.enable('data_server')"
   ]
  },
  {
   "cell_type": "code",
   "execution_count": 100,
   "id": "e89c60cf",
   "metadata": {},
   "outputs": [],
   "source": [
    "# Removes the target and keeps all features\n",
    "#split dataset in features and target variable\n",
    "X = dwellings_ml.drop(dwellings_ml.filter(regex = 'before1980|yrbuilt|parcel').columns, axis = 1)\n",
    "# Selects the target column\n",
    "y = dwellings_ml.filter(regex = \"before1980\")\n",
    "# Splitting X and y variables into train and test sets using stratified sampling\n",
    "X_train, X_test, y_train, y_test = train_test_split(X,y, test_size = .33, random_state = 77)"
   ]
  },
  {
   "cell_type": "code",
   "execution_count": 107,
   "id": "fcc31695",
   "metadata": {},
   "outputs": [],
   "source": [
    "# clf stands for classifier model.\n",
    "clf = DecisionTreeClassifier()\n",
    "# Train Decision Tree Classifer\n",
    "clf.fit(X_train, y_train)\n",
    "#  Using the features in the test set to make predictions\n",
    "y_train_hat = clf.predict(X_train)\n",
    "y_test_hat = clf.predict(X_test)"
   ]
  },
  {
   "cell_type": "code",
   "execution_count": 108,
   "id": "42f505c4",
   "metadata": {},
   "outputs": [
    {
     "name": "stdout",
     "output_type": "stream",
     "text": [
      "\n",
      "    Training AUC: 1.0\n",
      "    Testing AUC: 0.893918485198102\n"
     ]
    }
   ],
   "source": [
    "def get_auc_scores(dec_tree, X_train, X_test, y_train, y_test):\n",
    "    y_train_score = dec_tree.predict_proba(X_train)[:, 1]\n",
    "    y_test_score = dec_tree.predict_proba(X_test)[:, 1]\n",
    "    auc_train = roc_auc_score(y_train, y_train_score)\n",
    "    auc_test = roc_auc_score(y_test, y_test_score)    \n",
    "    print(f\"\"\"\n",
    "    Training AUC: {auc_train}\n",
    "    Testing AUC: {auc_test}\"\"\")\n",
    "    return y_test_score\n",
    "y_test_score = get_auc_scores(clf, X_train, X_test, y_train, y_test)"
   ]
  },
  {
   "cell_type": "markdown",
   "id": "20d2e63c",
   "metadata": {},
   "source": [
    "Below is the output of this function. To read the ROC curve, we are looking to have the bend of the curve in the upper left corner. The closer the curve is to the 45-degree line, the worse our model performs.\n"
   ]
  },
  {
   "cell_type": "code",
   "execution_count": 110,
   "id": "e18c1e74",
   "metadata": {},
   "outputs": [
    {
     "data": {
      "image/png": "[encoded data removed]",
      "text/plain": [
       "<Figure size 432x288 with 1 Axes>"
      ]
     },
     "metadata": {
      "needs_background": "light"
     },
     "output_type": "display_data"
    }
   ],
   "source": [
    "def plot_roc_curve(y_test, y_test_score): \n",
    "    # fpr is the false positive rate, tpr is the true positive rate.\n",
    "    fpr, tpr, _ = roc_curve(y_test, y_test_score)\n",
    "    roc_auc = auc(fpr, tpr)\n",
    "    plt.figure()\n",
    "    plt.plot(fpr, tpr, label=\"ROC curve\")\n",
    "    plt.plot([0, 1], [0, 1])\n",
    "    plt.xlim([0.0, 1.0])\n",
    "    plt.ylim([0.0, 1.05])\n",
    "    plt.xlabel(\"False Positive Rate\")\n",
    "    plt.ylabel(\"True Positive Rate\")\n",
    "    plt.title(\"Receiver operating characteristic\")\n",
    "    plt.legend(loc=\"lower right\")\n",
    "    plt.savefig('roc_curve.png')\n",
    "    plt.show() \n",
    "plot_roc_curve(y_test, y_test_score)"
   ]
  },
  {
   "cell_type": "code",
   "execution_count": 111,
   "id": "04fc4d8e",
   "metadata": {},
   "outputs": [],
   "source": [
    "df_features = pd.DataFrame(\n",
    "    {'f_names': X_train.columns, \n",
    "    'f_values': clf.feature_importances_}).sort_values('f_values', ascending = False)"
   ]
  },
  {
   "cell_type": "code",
   "execution_count": 112,
   "id": "acae3f23",
   "metadata": {},
   "outputs": [
    {
     "name": "stdout",
     "output_type": "stream",
     "text": [
      "              precision    recall  f1-score   support\n",
      "\n",
      "           0       0.87      0.87      0.87      2859\n",
      "           1       0.92      0.92      0.92      4703\n",
      "\n",
      "    accuracy                           0.90      7562\n",
      "   macro avg       0.89      0.89      0.89      7562\n",
      "weighted avg       0.90      0.90      0.90      7562\n",
      "\n"
     ]
    }
   ],
   "source": [
    "print(metrics.classification_report(y_test, y_test_score))"
   ]
  },
  {
   "cell_type": "code",
   "execution_count": 113,
   "id": "d07a329d",
   "metadata": {},
   "outputs": [
    {
     "name": "stdout",
     "output_type": "stream",
     "text": [
      "Accuracy: 0.9002909283258397\n"
     ]
    }
   ],
   "source": [
    "print(\"Accuracy:\",metrics.accuracy_score(y_test, y_test_score))"
   ]
  }
 ],
 "metadata": {
  "kernelspec": {
   "display_name": "Python 3 (ipykernel)",
   "language": "python",
   "name": "python3"
  },
  "language_info": {
   "codemirror_mode": {
    "name": "ipython",
    "version": 3
   },
   "file_extension": ".py",
   "mimetype": "text/x-python",
   "name": "python",
   "nbconvert_exporter": "python",
   "pygments_lexer": "ipython3",
   "version": "3.9.7"
  }
 },
 "nbformat": 4,
 "nbformat_minor": 5
}
